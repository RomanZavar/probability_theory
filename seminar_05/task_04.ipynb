{
 "cells": [
  {
   "attachments": {},
   "cell_type": "markdown",
   "metadata": {},
   "source": [
    "Есть ли статистически значимые различия в росте\n",
    "дочерей?\n",
    "Рост матерей 172, 177, 158, 170, 178,175, 164, 160, 169, 165\n",
    "Рост взрослых дочерей: 173, 175, 162, 174, 175, 168, 155, 170, 160, 163"
   ]
  },
  {
   "cell_type": "code",
   "execution_count": 1,
   "metadata": {},
   "outputs": [],
   "source": [
    "import numpy as np\n",
    "from scipy import stats"
   ]
  },
  {
   "cell_type": "code",
   "execution_count": 2,
   "metadata": {},
   "outputs": [
    {
     "data": {
      "text/plain": [
       "Ttest_relResult(statistic=0.6648478531431979, pvalue=0.5228168632983574)"
      ]
     },
     "execution_count": 2,
     "metadata": {},
     "output_type": "execute_result"
    }
   ],
   "source": [
    "x = np.array([172, 177, 158, 170, 178,175, 164, 160, 169, 165])\n",
    "y = np.array([173, 175, 162, 174, 175, 168, 155, 170, 160, 163])\n",
    "stats.ttest_rel(x, y)"
   ]
  },
  {
   "attachments": {},
   "cell_type": "markdown",
   "metadata": {},
   "source": [
    "p-value > a\n",
    "Ответ: Разница в росте отсутсвует"
   ]
  }
 ],
 "metadata": {
  "kernelspec": {
   "display_name": "base",
   "language": "python",
   "name": "python3"
  },
  "language_info": {
   "codemirror_mode": {
    "name": "ipython",
    "version": 3
   },
   "file_extension": ".py",
   "mimetype": "text/x-python",
   "name": "python",
   "nbconvert_exporter": "python",
   "pygments_lexer": "ipython3",
   "version": "3.9.13"
  },
  "orig_nbformat": 4,
  "vscode": {
   "interpreter": {
    "hash": "2f3c869979202fd00dc77b9b19f7f1274d90c7ac71f815da43f66b40b655c2a0"
   }
  }
 },
 "nbformat": 4,
 "nbformat_minor": 2
}
