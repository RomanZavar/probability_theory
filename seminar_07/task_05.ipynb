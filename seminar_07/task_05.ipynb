{
 "cells": [
  {
   "cell_type": "markdown",
   "metadata": {},
   "source": [
    "Заявляется, что партия изготавливается со средним арифметическим 2,5 см. Проверить\n",
    "данную гипотезу, если известно, что размеры изделий подчинены нормальному закону\n",
    "распределения. Объем выборки 10, уровень статистической значимости 5%\n",
    "2.51, 2.35, 2.74, 2.56, 2.40, 2.36, 2.65, 2.7, 2.67, 2.34"
   ]
  },
  {
   "cell_type": "code",
   "execution_count": 2,
   "metadata": {},
   "outputs": [],
   "source": [
    "import numpy as np\n",
    "import scipy.stats as stats"
   ]
  },
  {
   "cell_type": "code",
   "execution_count": 3,
   "metadata": {},
   "outputs": [
    {
     "data": {
      "text/plain": [
       "0.563061366180296"
      ]
     },
     "execution_count": 3,
     "metadata": {},
     "output_type": "execute_result"
    }
   ],
   "source": [
    "X = np.array([2.51, 2.35, 2.74, 2.56, 2.40, 2.36, 2.65, 2.7, 2.67, 2.34])\n",
    "\n",
    "mean = X.mean()\n",
    "std = X.std(ddof=1)\n",
    "\n",
    "t_fact = (mean - 2.5) / std * np.sqrt(len(X))\n",
    "t_fact"
   ]
  },
  {
   "attachments": {},
   "cell_type": "markdown",
   "metadata": {},
   "source": [
    "По таблице для критерия Стьюдента находим t = 1.833 (для = 0.05 и 9 степенями свободы).\n",
    "Так как t > t_fact (1.833 > 0.56), то гипотеза верна и изделия соответствуют заявленному размеру."
   ]
  },
  {
   "cell_type": "code",
   "execution_count": 4,
   "metadata": {},
   "outputs": [
    {
     "name": "stdout",
     "output_type": "stream",
     "text": [
      "t теор = 2.26\n",
      "t рассч = 0.563\n"
     ]
    }
   ],
   "source": [
    "n = 10\n",
    "m = 2.5\n",
    "\n",
    "t = stats.t.ppf(0.975, 9)\n",
    "print(f\"t теор = {t:.2f}\")\n",
    "\n",
    "t = (mean - m) * np.sqrt(n) / std\n",
    "print(f\"t рассч = {t:.3f}\")"
   ]
  },
  {
   "attachments": {},
   "cell_type": "markdown",
   "metadata": {},
   "source": [
    "t теор > t рассч, нулевая гипотеза верна"
   ]
  }
 ],
 "metadata": {
  "kernelspec": {
   "display_name": "Python 3",
   "language": "python",
   "name": "python3"
  },
  "language_info": {
   "codemirror_mode": {
    "name": "ipython",
    "version": 3
   },
   "file_extension": ".py",
   "mimetype": "text/x-python",
   "name": "python",
   "nbconvert_exporter": "python",
   "pygments_lexer": "ipython3",
   "version": "3.11.0"
  },
  "orig_nbformat": 4,
  "vscode": {
   "interpreter": {
    "hash": "aeec9ec68b0bd487a49f5643d6016aac2f2b5d0284d53dc91d5c37f90a9e3e4d"
   }
  }
 },
 "nbformat": 4,
 "nbformat_minor": 2
}
